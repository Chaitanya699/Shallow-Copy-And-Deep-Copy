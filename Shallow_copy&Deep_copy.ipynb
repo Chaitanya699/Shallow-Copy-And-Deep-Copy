{
 "cells": [
  {
   "cell_type": "code",
   "execution_count": null,
   "id": "2afa014c",
   "metadata": {},
   "outputs": [],
   "source": [
    "#Shallow Copy And Deep Copy in python"
   ]
  },
  {
   "cell_type": "code",
   "execution_count": 1,
   "id": "f5012661",
   "metadata": {},
   "outputs": [
    {
     "name": "stdout",
     "output_type": "stream",
     "text": [
      "('Rohit', 'Virat', 'Rahane')\n"
     ]
    }
   ],
   "source": [
    "#Declaring The Tuple\n",
    "player=('Rohit','Virat','Rahane')\n",
    "print(player)"
   ]
  },
  {
   "cell_type": "code",
   "execution_count": 2,
   "id": "d9606800",
   "metadata": {},
   "outputs": [
    {
     "data": {
      "text/plain": [
       "tuple"
      ]
     },
     "execution_count": 2,
     "metadata": {},
     "output_type": "execute_result"
    }
   ],
   "source": [
    "#Checking the type of this variagle\n",
    "type(player)"
   ]
  },
  {
   "cell_type": "code",
   "execution_count": 3,
   "id": "cf710b5a",
   "metadata": {},
   "outputs": [
    {
     "name": "stdout",
     "output_type": "stream",
     "text": [
      "Rohit\n",
      "Rahane\n",
      "Virat\n"
     ]
    }
   ],
   "source": [
    "#Accessing the Element of Tuple \n",
    "print(player[0])\n",
    "print(player[2])\n",
    "print(player[1])"
   ]
  },
  {
   "cell_type": "code",
   "execution_count": 4,
   "id": "36f1f728",
   "metadata": {},
   "outputs": [
    {
     "data": {
      "text/plain": [
       "3"
      ]
     },
     "execution_count": 4,
     "metadata": {},
     "output_type": "execute_result"
    }
   ],
   "source": [
    "#Checking the length of tuple\n",
    "len(player)"
   ]
  },
  {
   "cell_type": "code",
   "execution_count": 5,
   "id": "08de0d6e",
   "metadata": {},
   "outputs": [
    {
     "data": {
      "text/plain": [
       "'Rahane'"
      ]
     },
     "execution_count": 5,
     "metadata": {},
     "output_type": "execute_result"
    }
   ],
   "source": [
    "#Accessing The Negative Indexing\n",
    "player[-1]"
   ]
  },
  {
   "cell_type": "code",
   "execution_count": 6,
   "id": "4fe69643",
   "metadata": {},
   "outputs": [
    {
     "data": {
      "text/plain": [
       "('Rohit', 'Virat')"
      ]
     },
     "execution_count": 6,
     "metadata": {},
     "output_type": "execute_result"
    }
   ],
   "source": [
    "#Slicing The Element\n",
    "player[:2]"
   ]
  },
  {
   "cell_type": "code",
   "execution_count": 7,
   "id": "9d0a9a56",
   "metadata": {},
   "outputs": [
    {
     "data": {
      "text/plain": [
       "1"
      ]
     },
     "execution_count": 7,
     "metadata": {},
     "output_type": "execute_result"
    }
   ],
   "source": [
    "#Checking the count of name whether it is repeated or not\n",
    "player.count('Virat')"
   ]
  },
  {
   "cell_type": "code",
   "execution_count": 8,
   "id": "145da5d5",
   "metadata": {},
   "outputs": [
    {
     "name": "stdout",
     "output_type": "stream",
     "text": [
      "(100, [1, 2, 3], 'March', 2021)\n"
     ]
    }
   ],
   "source": [
    "#Another tuple with all type of data\n",
    "t = (100,[1,2,3],\"March\",2021)\n",
    "print(t)"
   ]
  },
  {
   "cell_type": "code",
   "execution_count": 9,
   "id": "10b1fdba",
   "metadata": {},
   "outputs": [
    {
     "data": {
      "text/plain": [
       "[1, 2, 3]"
      ]
     },
     "execution_count": 9,
     "metadata": {},
     "output_type": "execute_result"
    }
   ],
   "source": [
    "#printing the element  index 1 \n",
    "t[1]"
   ]
  },
  {
   "cell_type": "code",
   "execution_count": 11,
   "id": "9fb81c07",
   "metadata": {},
   "outputs": [
    {
     "data": {
      "text/plain": [
       "(100, [1, 2, 3, 4, 4], 'March', 2021)"
      ]
     },
     "execution_count": 11,
     "metadata": {},
     "output_type": "execute_result"
    }
   ],
   "source": [
    "#Adding the element to index 1 into sub list\n",
    "t[1].append(4)\n",
    "t"
   ]
  },
  {
   "cell_type": "code",
   "execution_count": 12,
   "id": "51925bb7",
   "metadata": {},
   "outputs": [],
   "source": [
    "t[1].remove(4)"
   ]
  },
  {
   "cell_type": "code",
   "execution_count": 13,
   "id": "cd440021",
   "metadata": {},
   "outputs": [
    {
     "name": "stdout",
     "output_type": "stream",
     "text": [
      "(100, [1, 2, 3, 4], 'March', 2021)\n"
     ]
    }
   ],
   "source": [
    "#operation peform after Adding the element\n",
    "print(t)"
   ]
  },
  {
   "cell_type": "code",
   "execution_count": null,
   "id": "20a2fe51",
   "metadata": {},
   "outputs": [],
   "source": [
    "#Shallow Copy & Deep Copy"
   ]
  },
  {
   "cell_type": "code",
   "execution_count": 14,
   "id": "58e99831",
   "metadata": {},
   "outputs": [],
   "source": [
    "team_a=['Dhawan','Rahane','Ashwing']"
   ]
  },
  {
   "cell_type": "code",
   "execution_count": 15,
   "id": "cccbd67b",
   "metadata": {},
   "outputs": [],
   "source": [
    "team_b = team_a"
   ]
  },
  {
   "cell_type": "code",
   "execution_count": 16,
   "id": "cf5e3ef1",
   "metadata": {},
   "outputs": [
    {
     "data": {
      "text/plain": [
       "['Dhawan', 'Rahane', 'Ashwing']"
      ]
     },
     "execution_count": 16,
     "metadata": {},
     "output_type": "execute_result"
    }
   ],
   "source": [
    "team_b"
   ]
  },
  {
   "cell_type": "code",
   "execution_count": 17,
   "id": "1e025a4e",
   "metadata": {},
   "outputs": [
    {
     "data": {
      "text/plain": [
       "['Dhawan', 'Rahane', 'Ashwing', 'Axar']"
      ]
     },
     "execution_count": 17,
     "metadata": {},
     "output_type": "execute_result"
    }
   ],
   "source": [
    "team_a.append('Axar')\n",
    "team_a"
   ]
  },
  {
   "cell_type": "code",
   "execution_count": 18,
   "id": "92b460bf",
   "metadata": {},
   "outputs": [
    {
     "data": {
      "text/plain": [
       "['Dhawan', 'Rahane', 'Ashwing', 'Axar']"
      ]
     },
     "execution_count": 18,
     "metadata": {},
     "output_type": "execute_result"
    }
   ],
   "source": [
    "team_b"
   ]
  },
  {
   "cell_type": "code",
   "execution_count": 19,
   "id": "f17e7f42",
   "metadata": {},
   "outputs": [
    {
     "data": {
      "text/plain": [
       "['Dhawan', 'Rahane', 'Ashwing', 'Axar', 'Hardik']"
      ]
     },
     "execution_count": 19,
     "metadata": {},
     "output_type": "execute_result"
    }
   ],
   "source": [
    "team_b.append('Hardik')\n",
    "team_a"
   ]
  },
  {
   "cell_type": "code",
   "execution_count": null,
   "id": "553e70d3",
   "metadata": {},
   "outputs": [],
   "source": [
    "#Shallow Copy there are three type to define it \n",
    "#list\n",
    "#[:]\n",
    "#copy"
   ]
  },
  {
   "cell_type": "code",
   "execution_count": 20,
   "id": "4ffb6988",
   "metadata": {},
   "outputs": [],
   "source": [
    "#Shallow copy with colan\n",
    "team_c = team_a[:]"
   ]
  },
  {
   "cell_type": "code",
   "execution_count": 21,
   "id": "ee8bbdea",
   "metadata": {},
   "outputs": [
    {
     "data": {
      "text/plain": [
       "['Dhawan', 'Rahane', 'Ashwing', 'Axar', 'Hardik']"
      ]
     },
     "execution_count": 21,
     "metadata": {},
     "output_type": "execute_result"
    }
   ],
   "source": [
    "team_a"
   ]
  },
  {
   "cell_type": "code",
   "execution_count": 22,
   "id": "730e7f9d",
   "metadata": {},
   "outputs": [
    {
     "data": {
      "text/plain": [
       "['Dhawan', 'Rahane', 'Ashwing', 'Axar', 'Hardik']"
      ]
     },
     "execution_count": 22,
     "metadata": {},
     "output_type": "execute_result"
    }
   ],
   "source": [
    "team_b"
   ]
  },
  {
   "cell_type": "code",
   "execution_count": 23,
   "id": "32ad307d",
   "metadata": {},
   "outputs": [
    {
     "data": {
      "text/plain": [
       "['Dhawan', 'Rahane', 'Ashwing', 'Axar', 'Hardik']"
      ]
     },
     "execution_count": 23,
     "metadata": {},
     "output_type": "execute_result"
    }
   ],
   "source": [
    "team_c"
   ]
  },
  {
   "cell_type": "code",
   "execution_count": 24,
   "id": "6da10c37",
   "metadata": {},
   "outputs": [],
   "source": [
    "team_a.append('Pant')"
   ]
  },
  {
   "cell_type": "code",
   "execution_count": 25,
   "id": "1a0184fb",
   "metadata": {},
   "outputs": [
    {
     "data": {
      "text/plain": [
       "['Dhawan', 'Rahane', 'Ashwing', 'Axar', 'Hardik', 'Pant']"
      ]
     },
     "execution_count": 25,
     "metadata": {},
     "output_type": "execute_result"
    }
   ],
   "source": [
    "team_b"
   ]
  },
  {
   "cell_type": "code",
   "execution_count": 26,
   "id": "ab7653c0",
   "metadata": {},
   "outputs": [
    {
     "data": {
      "text/plain": [
       "['Dhawan', 'Rahane', 'Ashwing', 'Axar', 'Hardik']"
      ]
     },
     "execution_count": 26,
     "metadata": {},
     "output_type": "execute_result"
    }
   ],
   "source": [
    "team_c"
   ]
  },
  {
   "cell_type": "code",
   "execution_count": 27,
   "id": "3f005fef",
   "metadata": {},
   "outputs": [
    {
     "data": {
      "text/plain": [
       "2478729782464"
      ]
     },
     "execution_count": 27,
     "metadata": {},
     "output_type": "execute_result"
    }
   ],
   "source": [
    "#how to see the address of any funcition\n",
    "id(team_a)"
   ]
  },
  {
   "cell_type": "code",
   "execution_count": 28,
   "id": "c0023ab3",
   "metadata": {},
   "outputs": [
    {
     "data": {
      "text/plain": [
       "2478729782464"
      ]
     },
     "execution_count": 28,
     "metadata": {},
     "output_type": "execute_result"
    }
   ],
   "source": [
    "id(team_b)"
   ]
  },
  {
   "cell_type": "code",
   "execution_count": 29,
   "id": "3150b4f1",
   "metadata": {},
   "outputs": [
    {
     "data": {
      "text/plain": [
       "2478730046144"
      ]
     },
     "execution_count": 29,
     "metadata": {},
     "output_type": "execute_result"
    }
   ],
   "source": [
    "id(team_c)"
   ]
  },
  {
   "cell_type": "code",
   "execution_count": 30,
   "id": "45c16127",
   "metadata": {},
   "outputs": [],
   "source": [
    "#list second method of shallow copy\n",
    "team_d = list(team_a)"
   ]
  },
  {
   "cell_type": "code",
   "execution_count": 31,
   "id": "7b44421f",
   "metadata": {},
   "outputs": [
    {
     "data": {
      "text/plain": [
       "['Dhawan', 'Rahane', 'Ashwing', 'Axar', 'Hardik', 'Pant']"
      ]
     },
     "execution_count": 31,
     "metadata": {},
     "output_type": "execute_result"
    }
   ],
   "source": [
    "team_d"
   ]
  },
  {
   "cell_type": "code",
   "execution_count": 32,
   "id": "21436503",
   "metadata": {},
   "outputs": [],
   "source": [
    "team_a.append(\"Kuldeep\")"
   ]
  },
  {
   "cell_type": "code",
   "execution_count": 33,
   "id": "29034a89",
   "metadata": {},
   "outputs": [
    {
     "data": {
      "text/plain": [
       "['Dhawan', 'Rahane', 'Ashwing', 'Axar', 'Hardik', 'Pant', 'Kuldeep']"
      ]
     },
     "execution_count": 33,
     "metadata": {},
     "output_type": "execute_result"
    }
   ],
   "source": [
    "team_a"
   ]
  },
  {
   "cell_type": "code",
   "execution_count": 34,
   "id": "99671752",
   "metadata": {},
   "outputs": [
    {
     "data": {
      "text/plain": [
       "['Dhawan', 'Rahane', 'Ashwing', 'Axar', 'Hardik', 'Pant', 'Kuldeep']"
      ]
     },
     "execution_count": 34,
     "metadata": {},
     "output_type": "execute_result"
    }
   ],
   "source": [
    "team_b"
   ]
  },
  {
   "cell_type": "code",
   "execution_count": 35,
   "id": "92ee7481",
   "metadata": {},
   "outputs": [
    {
     "data": {
      "text/plain": [
       "['Dhawan', 'Rahane', 'Ashwing', 'Axar', 'Hardik', 'Pant']"
      ]
     },
     "execution_count": 35,
     "metadata": {},
     "output_type": "execute_result"
    }
   ],
   "source": [
    "team_d"
   ]
  },
  {
   "cell_type": "code",
   "execution_count": 36,
   "id": "822fd7f6",
   "metadata": {},
   "outputs": [],
   "source": [
    "#copy() Third type for Shallow copy\n",
    "team_e = team_a.copy()"
   ]
  },
  {
   "cell_type": "code",
   "execution_count": 37,
   "id": "0a15e78d",
   "metadata": {},
   "outputs": [
    {
     "data": {
      "text/plain": [
       "['Dhawan', 'Rahane', 'Ashwing', 'Axar', 'Hardik', 'Pant', 'Kuldeep']"
      ]
     },
     "execution_count": 37,
     "metadata": {},
     "output_type": "execute_result"
    }
   ],
   "source": [
    "team_a"
   ]
  },
  {
   "cell_type": "code",
   "execution_count": 38,
   "id": "dc0e7a52",
   "metadata": {},
   "outputs": [
    {
     "data": {
      "text/plain": [
       "['Dhawan', 'Rahane', 'Ashwing', 'Axar', 'Hardik', 'Pant', 'Kuldeep']"
      ]
     },
     "execution_count": 38,
     "metadata": {},
     "output_type": "execute_result"
    }
   ],
   "source": [
    "team_e"
   ]
  },
  {
   "cell_type": "code",
   "execution_count": 39,
   "id": "4115ae57",
   "metadata": {},
   "outputs": [],
   "source": [
    "team_a.append(\"Jadeja\")"
   ]
  },
  {
   "cell_type": "code",
   "execution_count": 40,
   "id": "0d3937cd",
   "metadata": {},
   "outputs": [
    {
     "data": {
      "text/plain": [
       "['Dhawan', 'Rahane', 'Ashwing', 'Axar', 'Hardik', 'Pant', 'Kuldeep', 'Jadeja']"
      ]
     },
     "execution_count": 40,
     "metadata": {},
     "output_type": "execute_result"
    }
   ],
   "source": [
    "team_a"
   ]
  },
  {
   "cell_type": "code",
   "execution_count": 41,
   "id": "bc655fda",
   "metadata": {},
   "outputs": [
    {
     "data": {
      "text/plain": [
       "['Dhawan', 'Rahane', 'Ashwing', 'Axar', 'Hardik', 'Pant', 'Kuldeep', 'Jadeja']"
      ]
     },
     "execution_count": 41,
     "metadata": {},
     "output_type": "execute_result"
    }
   ],
   "source": [
    "team_b"
   ]
  },
  {
   "cell_type": "code",
   "execution_count": 42,
   "id": "fb93aa32",
   "metadata": {},
   "outputs": [
    {
     "data": {
      "text/plain": [
       "['Dhawan', 'Rahane', 'Ashwing', 'Axar', 'Hardik', 'Pant', 'Kuldeep']"
      ]
     },
     "execution_count": 42,
     "metadata": {},
     "output_type": "execute_result"
    }
   ],
   "source": [
    "team_e"
   ]
  },
  {
   "cell_type": "code",
   "execution_count": null,
   "id": "b389ecc7",
   "metadata": {},
   "outputs": [],
   "source": []
  },
  {
   "cell_type": "code",
   "execution_count": 43,
   "id": "e87f308c",
   "metadata": {},
   "outputs": [],
   "source": [
    "list_1 = [100,[1,2,3],200,300]"
   ]
  },
  {
   "cell_type": "code",
   "execution_count": 44,
   "id": "69a939e6",
   "metadata": {},
   "outputs": [],
   "source": [
    "list_2 =list_1.copy()"
   ]
  },
  {
   "cell_type": "code",
   "execution_count": 45,
   "id": "5638492e",
   "metadata": {},
   "outputs": [
    {
     "data": {
      "text/plain": [
       "[100, [1, 2, 3], 200, 300]"
      ]
     },
     "execution_count": 45,
     "metadata": {},
     "output_type": "execute_result"
    }
   ],
   "source": [
    "list_1"
   ]
  },
  {
   "cell_type": "code",
   "execution_count": 46,
   "id": "57e8e23d",
   "metadata": {},
   "outputs": [
    {
     "data": {
      "text/plain": [
       "[100, [1, 2, 3], 200, 300]"
      ]
     },
     "execution_count": 46,
     "metadata": {},
     "output_type": "execute_result"
    }
   ],
   "source": [
    "list_2"
   ]
  },
  {
   "cell_type": "code",
   "execution_count": 47,
   "id": "c6b603fa",
   "metadata": {},
   "outputs": [],
   "source": [
    "list_1.append(400)"
   ]
  },
  {
   "cell_type": "code",
   "execution_count": 48,
   "id": "bc533213",
   "metadata": {},
   "outputs": [
    {
     "data": {
      "text/plain": [
       "[100, [1, 2, 3], 200, 300, 400]"
      ]
     },
     "execution_count": 48,
     "metadata": {},
     "output_type": "execute_result"
    }
   ],
   "source": [
    "list_1"
   ]
  },
  {
   "cell_type": "code",
   "execution_count": 49,
   "id": "507650f3",
   "metadata": {},
   "outputs": [
    {
     "data": {
      "text/plain": [
       "[100, [1, 2, 3], 200, 300]"
      ]
     },
     "execution_count": 49,
     "metadata": {},
     "output_type": "execute_result"
    }
   ],
   "source": [
    "list_2"
   ]
  },
  {
   "cell_type": "code",
   "execution_count": null,
   "id": "008eac5b",
   "metadata": {},
   "outputs": [],
   "source": []
  },
  {
   "cell_type": "code",
   "execution_count": null,
   "id": "84fce90f",
   "metadata": {},
   "outputs": [],
   "source": [
    "#Deep Copy"
   ]
  },
  {
   "cell_type": "code",
   "execution_count": 50,
   "id": "a0591003",
   "metadata": {},
   "outputs": [],
   "source": [
    "import copy"
   ]
  },
  {
   "cell_type": "code",
   "execution_count": 51,
   "id": "338abcf5",
   "metadata": {},
   "outputs": [],
   "source": [
    "dc_1 = ['a','b',[100,200,300],'c']"
   ]
  },
  {
   "cell_type": "code",
   "execution_count": 52,
   "id": "c9011413",
   "metadata": {},
   "outputs": [
    {
     "data": {
      "text/plain": [
       "['a', 'b', [100, 200, 300], 'c']"
      ]
     },
     "execution_count": 52,
     "metadata": {},
     "output_type": "execute_result"
    }
   ],
   "source": [
    "dc_1"
   ]
  },
  {
   "cell_type": "code",
   "execution_count": 53,
   "id": "94bd4c07",
   "metadata": {},
   "outputs": [],
   "source": [
    "dc_2 = copy.deepcopy(dc_1)"
   ]
  },
  {
   "cell_type": "code",
   "execution_count": 54,
   "id": "06b50431",
   "metadata": {},
   "outputs": [
    {
     "data": {
      "text/plain": [
       "['a', 'b', [100, 200, 300], 'c']"
      ]
     },
     "execution_count": 54,
     "metadata": {},
     "output_type": "execute_result"
    }
   ],
   "source": [
    "dc_1"
   ]
  },
  {
   "cell_type": "code",
   "execution_count": 55,
   "id": "aa59a609",
   "metadata": {},
   "outputs": [
    {
     "data": {
      "text/plain": [
       "['a', 'b', [100, 200, 300], 'c']"
      ]
     },
     "execution_count": 55,
     "metadata": {},
     "output_type": "execute_result"
    }
   ],
   "source": [
    "dc_2"
   ]
  },
  {
   "cell_type": "code",
   "execution_count": 56,
   "id": "b85cde43",
   "metadata": {},
   "outputs": [],
   "source": [
    "dc_1[2].append(400)"
   ]
  },
  {
   "cell_type": "code",
   "execution_count": 57,
   "id": "f689d5dd",
   "metadata": {},
   "outputs": [
    {
     "data": {
      "text/plain": [
       "['a', 'b', [100, 200, 300, 400], 'c']"
      ]
     },
     "execution_count": 57,
     "metadata": {},
     "output_type": "execute_result"
    }
   ],
   "source": [
    "dc_1"
   ]
  },
  {
   "cell_type": "code",
   "execution_count": 58,
   "id": "1d59aa17",
   "metadata": {},
   "outputs": [
    {
     "data": {
      "text/plain": [
       "['a', 'b', [100, 200, 300], 'c']"
      ]
     },
     "execution_count": 58,
     "metadata": {},
     "output_type": "execute_result"
    }
   ],
   "source": [
    "dc_2"
   ]
  },
  {
   "cell_type": "code",
   "execution_count": null,
   "id": "148f3c99",
   "metadata": {},
   "outputs": [],
   "source": []
  }
 ],
 "metadata": {
  "kernelspec": {
   "display_name": "Python 3 (ipykernel)",
   "language": "python",
   "name": "python3"
  },
  "language_info": {
   "codemirror_mode": {
    "name": "ipython",
    "version": 3
   },
   "file_extension": ".py",
   "mimetype": "text/x-python",
   "name": "python",
   "nbconvert_exporter": "python",
   "pygments_lexer": "ipython3",
   "version": "3.9.12"
  }
 },
 "nbformat": 4,
 "nbformat_minor": 5
}
